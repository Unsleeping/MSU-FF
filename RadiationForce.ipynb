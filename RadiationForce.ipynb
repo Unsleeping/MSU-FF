{
 "cells": [
  {
   "cell_type": "code",
   "execution_count": 4,
   "metadata": {},
   "outputs": [],
   "source": [
    "from math import *\n",
    "import numpy as np\n",
    "import cmath\n",
    "import matplotlib.pyplot as plt\n"
   ]
  },
  {
   "cell_type": "code",
   "execution_count": 5,
   "metadata": {},
   "outputs": [],
   "source": [
    "# This import registers the 3D projection, but is otherwise unused.\n",
    "from mpl_toolkits.mplot3d import Axes3D  # noqa: F401 unused import\n",
    "\n",
    "from matplotlib import cm\n",
    "from matplotlib.ticker import LinearLocator, FormatStrFormatter"
   ]
  },
  {
   "cell_type": "code",
   "execution_count": 6,
   "metadata": {},
   "outputs": [],
   "source": [
    "def sinc(x):\n",
    "    '''\n",
    "    Compute the sinc-function: sin(x) / x\n",
    "    '''\n",
    "    try:  \n",
    "        return sin(x) / float(x)\n",
    "    except ZeroDivisionError:\n",
    "        return 1."
   ]
  },
  {
   "cell_type": "code",
   "execution_count": 10,
   "metadata": {},
   "outputs": [],
   "source": [
    "def upperRecurency(value, Nmax):\n",
    "    \n",
    "    # Nmax is the larger value of requirement function but quantity is (Nmax + 1) cause 0 is included\n",
    "    sphj, sphy, new_sphj = np.zeros(Nmax + 1), np.zeros(Nmax + 1), np.zeros(Nmax + 101)\n",
    "    \n",
    "    if value:\n",
    "        \n",
    "        # Compute the spherical Bessels function of the first kind\n",
    "        sphj[0] = sinc(value)                                                       # n = 0\n",
    "        sphj[1] = (-1) * cos(value) / float(value) + sin(value) / float(value ** 2) # n = 1\n",
    "        \n",
    "        # Compute the spherical Bessels function of the second kind\n",
    "        sphy[0] = (-1) * cos(value) / float(value)                                  # n = 0\n",
    "        sphy[1] = (-1) * sin(value / float(value) - cos(value) / float(value ** 2)) # n = 1  \n",
    "        \n",
    "#     else:\n",
    "#         sphj.append('ZeroDivisionError')\n",
    "        \n",
    "    for ind in range(2, Nmax + 1):\n",
    "        sphy[ind] = (2 * ind - 1) / float(value) * sphy[ind - 1] - sphy[ind - 2]\n",
    "        \n",
    "        if (ind <= value):\n",
    "            sphj[ind] = (2 * ind - 1) / float(value) * sphj[ind - 1] - sphj[ind - 2]\n",
    "    \n",
    "    \n",
    "    new_sphj[Nmax + 100] = 0 # n = Nmax + 101\n",
    "    new_sphj[Nmax + 99] = 1 # n = Nmax + 100\n",
    "    for ind in range(98 + Nmax, -1, -1):\n",
    "        new_sphj[ind] = (2 * ind + 3) / float(value) * new_sphj[ind + 1] - new_sphj[ind + 2]\n",
    "        if new_sphj[ind] > 100:\n",
    "            if ind <= Nmax:\n",
    "                for index in range(ind, Nmax, 1):\n",
    "                    new_sphj[index] /= 100\n",
    "            else:\n",
    "                new_sphj[ind + 1] /= 100\n",
    "                new_sphj[ind] /= 100\n",
    "                \n",
    "    \n",
    "    for ind in range(len(sphj)):\n",
    "        if sphj[ind] != 0:\n",
    "            k = new_sphj[ind] / float(sphj[ind])\n",
    "            break\n",
    "            \n",
    "    bessels = []\n",
    "    for elem in new_sphj:\n",
    "        bessels.append(elem / float(k))\n",
    "#         print(elem / float(k))\n",
    "    \n",
    "#     for ind in range(len(sphj)):\n",
    "#         if sphj[ind]:\n",
    "#             print(f'top_to_bottom: {bessels[ind]}\\n', f'bottom_to_top: {sphj[ind]}\\n')\n",
    "\n",
    "    return bessels, sphy\n",
    "    \n",
    "# for elem in range(1,1700):\n",
    "#     print(upperRecurency(elem, 10))"
   ]
  },
  {
   "cell_type": "code",
   "execution_count": null,
   "metadata": {},
   "outputs": [],
   "source": [
    "def sqrthcos(r, z0, costheta):\n",
    "    return (r ** 2 + z0 ** 2 + 2 * r * z0 * costheta) ** .5\n",
    "\n",
    "Nmax = 10\n",
    "z0 = 50\n",
    "step = 1\n",
    "p_ith = np.zeros((401, 401), dtype=complex)\n",
    "p_spth = np.zeros((401, 401), dtype=complex)\n",
    "P = np.zeros(Nmax)\n",
    "p_i = np.zeros((401, 401), dtype=complex)\n",
    "for x in range(-200, 201):\n",
    "    for z in range(-200, 201):\n",
    "        r = step * (x ** 2 + z ** 2) ** .5\n",
    "        if r:\n",
    "            costheta = step * z / r\n",
    "            if sqrthcos(r, z0, costheta):\n",
    "                sphj, sphy = upperRecurency(r, Nmax)\n",
    "                p_ith[x + 200][z + 200] = cmath.exp(1j * r * costheta)\n",
    "                p_spth[x + 200][z + 200] = cmath.exp(1j * sqrthcos(r, z0, costheta)) / sqrthcos(r, z0, costheta)\n",
    "                P[0] = 1\n",
    "                P[1] = costheta\n",
    "                for n in range(0, Nmax - 2):\n",
    "                    P[n + 2] = (2 * n + 1) / (n + 1) * costheta * P[n + 1] - n / (n + 1) * P[n];\n",
    "                    p_i[x + 200, z + 200] += (1j ** n)  * (2 * n + 1) * P[n] * sphj[n];\n",
    "                print(p_i[x + 200, z + 200])"
   ]
  },
  {
   "cell_type": "code",
   "execution_count": null,
   "metadata": {},
   "outputs": [],
   "source": [
    "print(abs(p_i[x+200,z+200]-p_ith[x+200, z+200]))"
   ]
  }
 ],
 "metadata": {
  "kernelspec": {
   "display_name": "Python 3",
   "language": "python",
   "name": "python3"
  },
  "language_info": {
   "codemirror_mode": {
    "name": "ipython",
    "version": 3
   },
   "file_extension": ".py",
   "mimetype": "text/x-python",
   "name": "python",
   "nbconvert_exporter": "python",
   "pygments_lexer": "ipython3",
   "version": "3.7.4"
  }
 },
 "nbformat": 4,
 "nbformat_minor": 2
}
